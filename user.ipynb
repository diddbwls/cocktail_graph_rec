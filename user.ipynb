{
 "cells": [
  {
   "cell_type": "markdown",
   "metadata": {},
   "source": [
    "## 🍸 칵테일 AI 검색 시스템\n",
    "### Task\n",
    "- **C1**: 시각적 유사성 기반 칵테일 추천\n",
    "- **C2**: 맛 프로파일 분석 (0-5 스케일)\n",
    "- **C3**: 칵테일 분류 및 계통 정보\n",
    "- **C4**: 레시피 및 재료 치환 정보"
   ]
  },
  {
   "cell_type": "code",
   "execution_count": 1,
   "metadata": {},
   "outputs": [
    {
     "name": "stdout",
     "output_type": "stream",
     "text": [
      "🧹 가비지 컬렉션 완료: 0개 객체 정리\n",
      "📦 임베딩 캐시 파일 크기: 48.97 MB\n",
      "✨ 메모리 정리 완료!\n"
     ]
    }
   ],
   "source": [
    "# 메모리 정리 함수\n",
    "import gc\n",
    "\n",
    "def cleanup_memory():\n",
    "    \"\"\"메모리 정리 및 가비지 컬렉션\"\"\"\n",
    "    # 기존 retrieval_system이 있다면 닫기\n",
    "    if 'retrieval_system' in globals():\n",
    "        try:\n",
    "            retrieval_system.close()\n",
    "            del globals()['retrieval_system']\n",
    "            print(\"✅ 기존 검색 시스템 연결 해제\")\n",
    "        except:\n",
    "            pass\n",
    "    \n",
    "    # 가비지 컬렉션 수행\n",
    "    collected = gc.collect()\n",
    "    print(f\"🧹 가비지 컬렉션 완료: {collected}개 객체 정리\")\n",
    "    \n",
    "    # 캐시 정리 옵션\n",
    "    try:\n",
    "        import os\n",
    "        cache_file = \"embedding_cache.json\"\n",
    "        if os.path.exists(cache_file):\n",
    "            size_mb = os.path.getsize(cache_file) / 1024 / 1024\n",
    "            print(f\"📦 임베딩 캐시 파일 크기: {size_mb:.2f} MB\")\n",
    "            # 캐시가 너무 크면 경고\n",
    "            if size_mb > 100:\n",
    "                print(\"⚠️ 캐시 파일이 매우 큽니다. 필요시 수동으로 삭제하세요.\")\n",
    "    except:\n",
    "        pass\n",
    "    \n",
    "    print(\"✨ 메모리 정리 완료!\")\n",
    "\n",
    "# 메모리 정리 실행\n",
    "cleanup_memory()"
   ]
  },
  {
   "cell_type": "markdown",
   "metadata": {},
   "source": [
    "## 🧹 메모리 정리 (메모리 사용량이 높을 때 실행)"
   ]
  },
  {
   "cell_type": "code",
   "execution_count": 2,
   "metadata": {},
   "outputs": [
    {
     "name": "stdout",
     "output_type": "stream",
     "text": [
      "✅ 모든 라이브러리가 성공적으로 로드되었습니다!\n"
     ]
    }
   ],
   "source": [
    "# 필요한 라이브러리 import\n",
    "import os\n",
    "import json\n",
    "import openai\n",
    "from neo4j import GraphDatabase\n",
    "from dotenv import load_dotenv\n",
    "from typing import List, Dict\n",
    "import re\n",
    "from retrieval import CocktailRetrieval\n",
    "from IPython.display import display, Markdown, HTML\n",
    "import warnings\n",
    "warnings.filterwarnings('ignore')\n",
    "\n",
    "print(\"✅ 모든 라이브러리가 성공적으로 로드되었습니다!\")"
   ]
  },
  {
   "cell_type": "code",
   "execution_count": null,
   "metadata": {},
   "outputs": [
    {
     "name": "stdout",
     "output_type": "stream",
     "text": [
      "🔥 칵테일 검색 시스템이 초기화되었습니다!\n",
      "📊 Neo4j 데이터베이스 연결 완료\n",
      "🤖 OpenAI GPT 연결 완료\n",
      "📝 config.json 기반 프롬프트 시스템 로드 완료\n",
      "⚙️ 임베딩 설정: text-embedding-3-small\n"
     ]
    }
   ],
   "source": [
    "# 시스템 초기화\n",
    "try:\n",
    "    retrieval_system = CocktailRetrieval()\n",
    "    print(\"🔥 칵테일 검색 시스템이 초기화되었습니다!\")\n",
    "    print(\"📊 Neo4j 데이터베이스 연결 완료\")\n",
    "    print(\"🤖 OpenAI GPT 연결 완료\")\n",
    "    print(\"📝 config.json 기반 프롬프트 시스템 로드 완료\")\n",
    "    print(\"⚙️ 임베딩 설정:\", retrieval_system.prompt_loader.config.get('embedding_model', 'text-embedding-3-small'))\n",
    "except Exception as e:\n",
    "    print(f\"❌ 시스템 초기화 실패: {e}\")\n",
    "    print(\"환경 변수(.env 파일)와 config.json을 확인해주세요.\")"
   ]
  },
  {
   "cell_type": "code",
   "execution_count": null,
   "metadata": {},
   "outputs": [
    {
     "name": "stdout",
     "output_type": "stream",
     "text": [
      "🤖 config.json 기반 LLM 태스크 분류 함수가 준비되었습니다!\n"
     ]
    }
   ],
   "source": [
    "def classify_task_automatically(question: str) -> tuple:\n",
    "    \"\"\"\n",
    "    LLM을 사용하여 질문을 분석하고 적절한 태스크 카테고리와 타입을 결정\n",
    "    \"\"\"\n",
    "    try:\n",
    "        # config.json 기반 분류 정보 로드\n",
    "        classifier_config = retrieval_system.prompt_loader.get_task_classifier_prompt()\n",
    "        \n",
    "        # 프롬프트와 설정 추출\n",
    "        system_prompt = classifier_config.get('system_prompt', 'You are a task classifier.')\n",
    "        user_prompt_template = classifier_config.get('user_prompt', '')\n",
    "        temperature = classifier_config.get('temperature', 0.1)\n",
    "        max_tokens = classifier_config.get('max_tokens', 200)\n",
    "        model = classifier_config.get('model', 'gpt-4o-mini')\n",
    "        \n",
    "        # 사용자 질문을 프롬프트에 삽입\n",
    "        user_message = f\"{user_prompt_template}\\n\\n**사용자 질문:** \\\"{question}\\\"\"\n",
    "        \n",
    "        response = openai.chat.completions.create(\n",
    "            model=model,\n",
    "            messages=[\n",
    "                {\"role\": \"system\", \"content\": system_prompt},\n",
    "                {\"role\": \"user\", \"content\": user_message}\n",
    "            ],\n",
    "            temperature=temperature,\n",
    "            max_tokens=max_tokens\n",
    "        )\n",
    "        \n",
    "        # JSON 응답 파싱\n",
    "        result = json.loads(response.choices[0].message.content)\n",
    "        \n",
    "        best_task = result['task']\n",
    "        confidence = result['confidence']\n",
    "        reason = result['reason']\n",
    "        \n",
    "        # 점수 생성 (선택된 태스크는 confidence 점수, 나머지는 낮은 점수)\n",
    "        base_score = max(0, 100 - confidence) // 3\n",
    "        scores = {\n",
    "            'C1': base_score,\n",
    "            'C2': base_score, \n",
    "            'C3': base_score,\n",
    "            'C4': base_score\n",
    "        }\n",
    "        scores[best_task] = confidence\n",
    "        \n",
    "        print(f\"🤖 config.json 기반 LLM 태스크 분류 완료\")\n",
    "        print(f\"📋 선택된 태스크: {best_task} (신뢰도: {confidence}%)\")\n",
    "        print(f\"💭 판단 근거: {reason}\")\n",
    "        \n",
    "        # 태스크 타입 결정\n",
    "        task_types = {\n",
    "            'C1': 'visual_recommendation',\n",
    "            'C2': 'taste_analysis', \n",
    "            'C3': 'classification_info',\n",
    "            'C4': 'recipe_ingredients'\n",
    "        }\n",
    "        \n",
    "        return best_task, task_types[best_task], scores\n",
    "        \n",
    "    except Exception as e:\n",
    "        print(f\"❌ LLM 기반 분류 실패: {e}\")\n",
    "        raise Exception(f\"태스크 분류 중 오류가 발생했습니다: {str(e)}\")\n",
    "\n",
    "print(\"🤖 config.json 기반 LLM 태스크 분류 함수가 준비되었습니다!\")"
   ]
  },
  {
   "cell_type": "code",
   "execution_count": null,
   "metadata": {},
   "outputs": [
    {
     "name": "stdout",
     "output_type": "stream",
     "text": [
      "🎨 결과 표시 함수가 준비되었습니다!\n"
     ]
    }
   ],
   "source": [
    "def display_results(question: str, context: Dict, llm_response: str, task_category: str, task_type: str, scores: Dict):\n",
    "    \"\"\"\n",
    "    결과를 예쁘게 포맷팅하여 출력\n",
    "    \"\"\"\n",
    "    # 태스크 정보 표시\n",
    "    task_names = {\n",
    "        'C1': '🎨 시각 인식 & 유사 추천',\n",
    "        'C2': '👅 테이스팅 & 맛 프로파일',\n",
    "        'C3': '📚 분류 & 계통 정보',\n",
    "        'C4': '🍹 레시피 & 재료 정보'\n",
    "    }\n",
    "    \n",
    "    # 검색 전략 정보 업데이트\n",
    "    strategy_info = {\n",
    "        'C1': '🔍 imageDescription + instructions 임베딩 혼합',\n",
    "        'C2': '🔍 description + instructions 임베딩 혼합', \n",
    "        'C3': '🔍 description + 그래프 관계 중심',\n",
    "        'C4': '🔍 instructions + measure 속성 활용'\n",
    "    }\n",
    "    \n",
    "    # 검색 결과를 먼저 표시\n",
    "    if 'cocktails' in context:\n",
    "        display(Markdown(\"## 🔍 검색된 칵테일들\"))\n",
    "        for i, cocktail in enumerate(context['cocktails'], 1):\n",
    "            similarity_score = cocktail.get('similarity_score', 'N/A')\n",
    "            relevance_score = cocktail.get('relevance_score', 'N/A')\n",
    "            \n",
    "            cocktail_info = f\"\"\"\n",
    "### {i}. {cocktail['name']} \n",
    "**유사도 점수:** {similarity_score if similarity_score != 'N/A' else relevance_score}\n",
    "\n",
    "**설명:** {cocktail.get('description', 'N/A')}\n",
    "\n",
    "**재료:** {', '.join(cocktail.get('ingredients', []))}\n",
    "\n",
    "**카테고리:** {cocktail.get('category', 'N/A')} | **글라스:** {cocktail.get('glass_type', 'N/A')}\n",
    "\"\"\"\n",
    "            \n",
    "            if 'recipe_with_measures' in cocktail:\n",
    "                recipe_items = [f\"{item['ingredient']} ({item['measure']})\" for item in cocktail['recipe_with_measures']]\n",
    "                cocktail_info += f\"\\n**레시피:** {', '.join(recipe_items)}\"\n",
    "            \n",
    "            display(Markdown(cocktail_info))\n",
    "            \n",
    "    elif 'results' in context:\n",
    "        display(Markdown(\"## 🔍 검색 결과\"))\n",
    "        for i, result in enumerate(context['results'], 1):\n",
    "            if 'ingredient' in result:\n",
    "                display(Markdown(f\"**{i}. {result['ingredient']}** (사용빈도: {result['usage_frequency']}, 유사도: {result.get('similarity', 'N/A')})\"))\n",
    "            elif 'category_name' in result:\n",
    "                display(Markdown(f\"**{i}. {result['category_name']}** (패밀리 크기: {result['family_size']})\"))\n",
    "            elif 'name' in result:\n",
    "                display(Markdown(f\"**{i}. {result['name']}**\"))\n",
    "                if 'detailed_recipe_with_measures' in result:\n",
    "                    recipe_items = [f\"{item['ingredient']} ({item['measure']})\" for item in result['detailed_recipe_with_measures']]\n",
    "                    display(Markdown(f\"레시피: {', '.join(recipe_items)}\"))\n",
    "    \n",
    "    # AI 분석 결과 표시\n",
    "    display(HTML(f\"\"\"\n",
    "    <div style=\"background-color: #f0f8ff; padding: 20px; border-radius: 10px; margin: 10px 0;\">\n",
    "        <h2 style=\"color: #2e86ab; margin-top: 0;\">🤖 AI 분석 결과</h2>\n",
    "        <p><strong>📝 질문:</strong> {question}</p>\n",
    "        <p><strong>🎯 감지된 태스크:</strong> {task_names[task_category]}</p>\n",
    "        <p><strong>🔍 검색 전략:</strong> {strategy_info.get(task_category, context.get('embedding_strategy', 'N/A'))}</p>\n",
    "        <p><strong>📊 태스크 점수:</strong> C1:{scores['C1']} | C2:{scores['C2']} | C3:{scores['C3']} | C4:{scores['C4']}</p>\n",
    "    </div>\n",
    "    \"\"\"))\n",
    "    \n",
    "    # LLM 답변 표시\n",
    "    display(HTML(f\"\"\"\n",
    "    <div style=\"background-color: #fff8e1; padding: 20px; border-radius: 10px; margin: 20px 0; border-left: 5px solid #ffa726;\">\n",
    "        <h2 style=\"color: #f57c00; margin-top: 0;\">🤖 AI 전문가 답변</h2>\n",
    "        <div style=\"white-space: pre-wrap; font-family: Arial, sans-serif; line-height: 1.6;\">{llm_response}</div>\n",
    "    </div>\n",
    "    \"\"\"))\n",
    "\n",
    "print(\"🎨 결과 표시 함수가 준비되었습니다!\")"
   ]
  },
  {
   "cell_type": "markdown",
   "metadata": {},
   "source": [
    "## 🚀 칵테일 질문\n",
    "### 예시 질문들:\n",
    "- `\"빨간색이고 체리가 올라간 칵테일과 비슷한 칵테일 추천해줘\"`\n",
    "- `\"네그로니의 맛 프로파일을 달/신/쌉/짠/감칠 0-5 스케일로 알려줘\"`\n",
    "- `\"다이키리의 분류 정보를 알려줘 - 패밀리, 베이스 스피릿, 스타일, 글라스\"`\n",
    "- `\"맨해튼 레시피를 정확한 비율과 측정값으로 알려줘\"`"
   ]
  },
  {
   "cell_type": "code",
   "execution_count": null,
   "metadata": {},
   "outputs": [
    {
     "name": "stdout",
     "output_type": "stream",
     "text": [
      "🤖 config.json 기반 LLM 태스크 분류 완료\n",
      "📋 선택된 태스크: C1 (신뢰도: 85%)\n",
      "💭 판단 근거: 색상과 외관을 기반으로 비슷한 칵테일 추천을 요청하는 질문이므로 C1이 적합\n",
      "🤖 질문 분석 중...\n",
      "🎯 감지된 태스크: C1 (visual_recommendation)\n",
      "🔍 검색 시작...\n",
      "✅ 검색 완료! 결과를 표시합니다...\n"
     ]
    },
    {
     "data": {
      "text/markdown": [
       "## 🔍 검색된 칵테일들"
      ],
      "text/plain": [
       "<IPython.core.display.Markdown object>"
      ]
     },
     "metadata": {},
     "output_type": "display_data"
    },
    {
     "data": {
      "text/html": [
       "\n",
       "    <div style=\"background-color: #f0f8ff; padding: 20px; border-radius: 10px; margin: 10px 0;\">\n",
       "        <h2 style=\"color: #2e86ab; margin-top: 0;\">🤖 AI 분석 결과</h2>\n",
       "        <p><strong>📝 질문:</strong> 빨간색이고 체리가 올라간 칵테일과 비슷한 칵테일 추천해줘</p>\n",
       "        <p><strong>🎯 감지된 태스크:</strong> 🎨 시각 인식 & 유사 추천</p>\n",
       "        <p><strong>🔍 검색 전략:</strong> 🔍 imageDescription + instructions 임베딩 혼합</p>\n",
       "        <p><strong>📊 태스크 점수:</strong> C1:85 | C2:5 | C3:5 | C4:5</p>\n",
       "    </div>\n",
       "    "
      ],
      "text/plain": [
       "<IPython.core.display.HTML object>"
      ]
     },
     "metadata": {},
     "output_type": "display_data"
    },
    {
     "data": {
      "text/html": [
       "\n",
       "    <div style=\"background-color: #fff8e1; padding: 20px; border-radius: 10px; margin: 20px 0; border-left: 5px solid #ffa726;\">\n",
       "        <h2 style=\"color: #f57c00; margin-top: 0;\">🤖 AI 전문가 답변</h2>\n",
       "        <div style=\"white-space: pre-wrap; font-family: Arial, sans-serif; line-height: 1.6;\">빨간색이고 체리가 올라간 칵테일은 일반적으로 \"마르가리타\"나 \"로얄 블러드\"와 같은 칵테일일 가능성이 높습니다. 이러한 칵테일들은 시각적으로 매력적이며, 체리 가니시가 더해져 시각적 포인트를 제공합니다. \n",
       "\n",
       "이와 비슷한 칵테일을 추천드리자면:\n",
       "\n",
       "1. **키르 로얄 (Kir Royale)**\n",
       "   - **색상**: 진한 자주색에서 붉은색으로, 체리와 비슷한 색조를 가집니다.\n",
       "   - **가니시**: 보통 체리나 레몬 제스트로 장식됩니다.\n",
       "   - **글라스**: 샴페인 플루트에 서빙되어 우아한 느낌을 줍니다.\n",
       "   - **유사성 점수**: 높은 유사성 - 색상과 가니시 스타일이 비슷합니다.\n",
       "\n",
       "2. **체리 블로섬 (Cherry Blossom)**\n",
       "   - **색상**: 밝은 핑크색에서 붉은색으로, 체리의 색상과 잘 어울립니다.\n",
       "   - **가니시**: 체리와 함께 민트 잎이 추가되어 상큼한 느낌을 줍니다.\n",
       "   - **글라스**: 칵테일 글라스에 서빙되어 시각적으로 매력적입니다.\n",
       "   - **유사성 점수**: 중간 정도 유사 - 색상은 비슷하지만, 질감과 맛이 다를 수 있습니다.\n",
       "\n",
       "3. **로미오와 줄리엣 (Romeo and Juliet)**\n",
       "   - **색상**: 붉은색과 오렌지색의 그라데이션이 특징입니다.\n",
       "   - **가니시**: 체리와 오렌지 슬라이스가 함께 제공됩니다.\n",
       "   - **글라스**: 하이볼 글라스에 서빙되어 시원한 느낌을 줍니다.\n",
       "   - **유사성 점수**: 부분적 유사 - 색상은 비슷하지만, 층 구조가 다를 수 있습니다.\n",
       "\n",
       "이 칵테일들은 모두 체리 가니시와 붉은색을 특징으로 하여, 시각적으로 유사한 매력을 제공합니다. 각 칵테일의 특성과 맛을 고려하여 선택하시면 좋겠습니다.</div>\n",
       "    </div>\n",
       "    "
      ],
      "text/plain": [
       "<IPython.core.display.HTML object>"
      ]
     },
     "metadata": {},
     "output_type": "display_data"
    }
   ],
   "source": [
    "# C1 테스크 : 시각 유사성 기반 칵테일 추천\n",
    "question = \"빨간색이고 체리가 올라간 칵테일과 비슷한 칵테일 추천해줘\"\n",
    "\n",
    "# ========== 이 아래는 수정하지 마세요! ==========\n",
    "\n",
    "try:\n",
    "    # 자동 태스크 분류\n",
    "    task_category, task_type, scores = classify_task_automatically(question)\n",
    "    \n",
    "    print(f\"🤖 질문 분석 중...\")\n",
    "    print(f\"🎯 감지된 태스크: {task_category} ({task_type})\")\n",
    "    print(f\"🔍 검색 시작...\")\n",
    "    \n",
    "    # 검색 및 답변 생성 (출력 억제)\n",
    "    import sys\n",
    "    from io import StringIO\n",
    "    \n",
    "    # 기존 stdout 저장\n",
    "    old_stdout = sys.stdout\n",
    "    sys.stdout = StringIO()\n",
    "    \n",
    "    try:\n",
    "        # 검색 실행 (출력 없이)\n",
    "        if task_category == \"C1\":\n",
    "            context = retrieval_system.c1_visual_similarity(question, task_type)\n",
    "        elif task_category == \"C2\":\n",
    "            context = retrieval_system.c2_taste_profile(question, task_type)\n",
    "        elif task_category == \"C3\":\n",
    "            context = retrieval_system.c3_classification(question, task_type)\n",
    "        elif task_category == \"C4\":\n",
    "            context = retrieval_system.c4_recipe_ingredients(question, task_type)\n",
    "        else:\n",
    "            raise ValueError(f\"알 수 없는 태스크 카테고리: {task_category}\")\n",
    "        \n",
    "        # LLM 답변 생성 (출력 없이)\n",
    "        llm_response = retrieval_system.query_llm(context, question, task_category)\n",
    "        \n",
    "    finally:\n",
    "        # stdout 복원\n",
    "        sys.stdout = old_stdout\n",
    "    \n",
    "    print(f\"✅ 검색 완료! 결과를 표시합니다...\")\n",
    "    \n",
    "    # 결과 표시\n",
    "    display_results(question, context, llm_response, task_category, task_type, scores)\n",
    "    \n",
    "except Exception as e:\n",
    "    display(HTML(f\"\"\"\n",
    "    <div style=\"background-color: #ffebee; padding: 20px; border-radius: 10px; margin: 10px 0; border-left: 5px solid #f44336;\">\n",
    "        <h3 style=\"color: #d32f2f; margin-top: 0;\">❌ 오류 발생</h3>\n",
    "        <p><strong>오류 내용:</strong> {str(e)}</p>\n",
    "        <p><strong>해결 방법:</strong></p>\n",
    "        <ul>\n",
    "            <li>네트워크 연결 상태를 확인해주세요</li>\n",
    "            <li>OpenAI API 키가 유효한지 확인해주세요</li>\n",
    "            <li>Neo4j 데이터베이스 연결 상태를 확인해주세요</li>\n",
    "            <li>질문을 다르게 표현해보세요</li>\n",
    "        </ul>\n",
    "    </div>\n",
    "    \"\"\"))"
   ]
  },
  {
   "cell_type": "code",
   "execution_count": null,
   "metadata": {},
   "outputs": [
    {
     "name": "stdout",
     "output_type": "stream",
     "text": [
      "🤖 config.json 기반 LLM 태스크 분류 완료\n",
      "📋 선택된 태스크: C2 (신뢰도: 85%)\n",
      "💭 판단 근거: 맛 프로파일 분석을 요청하는 질문이므로 C2가 적합\n",
      "🤖 C2 테스트 - 질문 분석 중...\n",
      "🎯 감지된 태스크: C2 (taste_analysis)\n",
      "🔍 검색 시작...\n",
      "✅ C2 검색 완료! 결과를 표시합니다...\n"
     ]
    },
    {
     "data": {
      "text/markdown": [
       "## 🔍 검색된 칵테일들"
      ],
      "text/plain": [
       "<IPython.core.display.Markdown object>"
      ]
     },
     "metadata": {},
     "output_type": "display_data"
    },
    {
     "data": {
      "text/html": [
       "\n",
       "    <div style=\"background-color: #f0f8ff; padding: 20px; border-radius: 10px; margin: 10px 0;\">\n",
       "        <h2 style=\"color: #2e86ab; margin-top: 0;\">🤖 AI 분석 결과</h2>\n",
       "        <p><strong>📝 질문:</strong> 네그로니의 맛 프로파일을 달콤함/신맛/쓴맛/짠맛/감칠맛 0-5 스케일로 알려줘</p>\n",
       "        <p><strong>🎯 감지된 태스크:</strong> 👅 테이스팅 & 맛 프로파일</p>\n",
       "        <p><strong>🔍 검색 전략:</strong> 🔍 description + instructions 임베딩 혼합</p>\n",
       "        <p><strong>📊 태스크 점수:</strong> C1:5 | C2:85 | C3:5 | C4:5</p>\n",
       "    </div>\n",
       "    "
      ],
      "text/plain": [
       "<IPython.core.display.HTML object>"
      ]
     },
     "metadata": {},
     "output_type": "display_data"
    },
    {
     "data": {
      "text/html": [
       "\n",
       "    <div style=\"background-color: #fff8e1; padding: 20px; border-radius: 10px; margin: 20px 0; border-left: 5px solid #ffa726;\">\n",
       "        <h2 style=\"color: #f57c00; margin-top: 0;\">🤖 AI 전문가 답변</h2>\n",
       "        <div style=\"white-space: pre-wrap; font-family: Arial, sans-serif; line-height: 1.6;\">네그로니(Negroni)는 클래식한 이탈리안 칵테일로, 주로 진(Gin), 스위트 베르무트(Sweet Vermouth), 그리고 캄파리(Campari)로 구성됩니다. 이 칵테일의 맛 프로파일을 0-5 스케일로 분석해보겠습니다.\n",
       "\n",
       "### 맛 프로파일 분석\n",
       "\n",
       "1. **달콤함(Sweetness): 2**\n",
       "   - 스위트 베르무트에서 오는 단맛이 있지만, 전체적으로는 강한 쓴맛과 균형을 이루기 때문에 상대적으로 낮은 점수를 받습니다.\n",
       "\n",
       "2. **신맛(Sourness): 1**\n",
       "   - 네그로니는 신맛이 거의 없으며, 주로 쓴맛과 단맛이 지배적입니다. 약간의 신맛이 느껴질 수 있지만, 전반적으로는 미미합니다.\n",
       "\n",
       "3. **쓴맛(Bitterness): 4**\n",
       "   - 캄파리의 강한 쓴맛이 네그로니의 핵심적인 특징입니다. 이 쓴맛은 칵테일의 전체적인 맛을 지배하며, 매우 두드러집니다.\n",
       "\n",
       "4. **짠맛(Saltiness): 0**\n",
       "   - 네그로니에는 짠맛이 전혀 없습니다. 모든 재료가 짠맛을 제공하지 않기 때문에 이 점수는 0입니다.\n",
       "\n",
       "5. **감칠맛(Umami): 1**\n",
       "   - 감칠맛은 거의 느껴지지 않지만, 스위트 베르무트의 복합적인 맛에서 약간의 감칠맛이 느껴질 수 있습니다.\n",
       "\n",
       "### 맛의 발전과 변화\n",
       "\n",
       "- **첫 모금**: 첫 모금에서는 진의 허브 향과 스위트 베르무트의 달콤함이 느껴지며, 뒤이어 캄파리의 쓴맛이 서서히 드러납니다.\n",
       "- **중간**: 중간에는 쓴맛이 더욱 강조되며, 진의 향미가 배경에서 느껴집니다. 이때 단맛이 쓴맛과 균형을 이루며 복합적인 맛을 형성합니다.\n",
       "- **피니시**: 피니시는 쓴맛이 남아 여운을 주며, 진의 허브 향이 잔향으로 남습니다. 전체적으로 강렬하고 복합적인 맛이 지속됩니다.\n",
       "\n",
       "### 상황별 추천 및 페어링\n",
       "\n",
       "- **추천 상황**: 네그로니는 저녁 시간이나 칵테일 애호가들이 모인 자리에서 즐기기 좋은 칵테일입니다. 특히, 여름철에 시원한 안주와 함께 즐기면 좋습니다.\n",
       "- **푸드 페어링**: \n",
       "  - 가벼운 안주: 올리브, 치즈 플래터\n",
       "  - 중간: 스테이크 타르타르, 해산물 요리\n",
       "  - 무거운: 고기 요리, 파스타\n",
       "\n",
       "네그로니는 그 강렬한 맛과 복합적인 향미로 인해 많은 사람들에게 사랑받는 칵테일입니다.</div>\n",
       "    </div>\n",
       "    "
      ],
      "text/plain": [
       "<IPython.core.display.HTML object>"
      ]
     },
     "metadata": {},
     "output_type": "display_data"
    }
   ],
   "source": [
    "# C2 테스트: 맛 프로파일 분석\n",
    "c2_question = \"네그로니의 맛 프로파일을 달콤함/신맛/쓴맛/짠맛/감칠맛 0-5 스케일로 알려줘\"\n",
    "\n",
    "try:\n",
    "    # 자동 태스크 분류\n",
    "    task_category, task_type, scores = classify_task_automatically(c2_question)\n",
    "    \n",
    "    print(f\"🤖 C2 테스트 - 질문 분석 중...\")\n",
    "    print(f\"🎯 감지된 태스크: {task_category} ({task_type})\")\n",
    "    print(f\"🔍 검색 시작...\")\n",
    "    \n",
    "    # 검색 및 답변 생성 (출력 억제)\n",
    "    old_stdout = sys.stdout\n",
    "    sys.stdout = StringIO()\n",
    "    \n",
    "    try:\n",
    "        context = retrieval_system.c2_taste_profile(c2_question, task_type)\n",
    "        llm_response = retrieval_system.query_llm(context, c2_question, task_category)\n",
    "    finally:\n",
    "        sys.stdout = old_stdout\n",
    "    \n",
    "    print(f\"✅ C2 검색 완료! 결과를 표시합니다...\")\n",
    "    display_results(c2_question, context, llm_response, task_category, task_type, scores)\n",
    "    \n",
    "except Exception as e:\n",
    "    display(HTML(f\"\"\"\n",
    "    <div style=\"background-color: #ffebee; padding: 20px; border-radius: 10px; margin: 10px 0; border-left: 5px solid #f44336;\">\n",
    "        <h3 style=\"color: #d32f2f; margin-top: 0;\">❌ C2 테스트 오류</h3>\n",
    "        <p><strong>오류 내용:</strong> {str(e)}</p>\n",
    "    </div>\n",
    "    \"\"\"))"
   ]
  },
  {
   "cell_type": "code",
   "execution_count": null,
   "metadata": {},
   "outputs": [
    {
     "name": "stdout",
     "output_type": "stream",
     "text": [
      "🤖 config.json 기반 LLM 태스크 분류 완료\n",
      "📋 선택된 태스크: C3 (신뢰도: 90%)\n",
      "💭 판단 근거: 칵테일의 분류, 패밀리, 베이스 스피릿, 제조 스타일 및 글라스웨어에 대한 정보를 요청하고 있으므로 C3가 적합\n",
      "🤖 C3 테스트 - 질문 분석 중...\n",
      "🎯 감지된 태스크: C3 (classification_info)\n",
      "🔍 검색 시작...\n",
      "✅ C3 검색 완료! 결과를 표시합니다...\n"
     ]
    },
    {
     "data": {
      "text/markdown": [
       "## 🔍 검색 결과"
      ],
      "text/plain": [
       "<IPython.core.display.Markdown object>"
      ]
     },
     "metadata": {},
     "output_type": "display_data"
    },
    {
     "data": {
      "text/html": [
       "\n",
       "    <div style=\"background-color: #f0f8ff; padding: 20px; border-radius: 10px; margin: 10px 0;\">\n",
       "        <h2 style=\"color: #2e86ab; margin-top: 0;\">🤖 AI 분석 결과</h2>\n",
       "        <p><strong>📝 질문:</strong> 다이키리의 분류 정보를 알려줘 - 패밀리, 베이스 스피릿, 스타일, 글라스</p>\n",
       "        <p><strong>🎯 감지된 태스크:</strong> 📚 분류 & 계통 정보</p>\n",
       "        <p><strong>🔍 검색 전략:</strong> 🔍 description + 그래프 관계 중심</p>\n",
       "        <p><strong>📊 태스크 점수:</strong> C1:3 | C2:3 | C3:90 | C4:3</p>\n",
       "    </div>\n",
       "    "
      ],
      "text/plain": [
       "<IPython.core.display.HTML object>"
      ]
     },
     "metadata": {},
     "output_type": "display_data"
    },
    {
     "data": {
      "text/html": [
       "\n",
       "    <div style=\"background-color: #fff8e1; padding: 20px; border-radius: 10px; margin: 20px 0; border-left: 5px solid #ffa726;\">\n",
       "        <h2 style=\"color: #f57c00; margin-top: 0;\">🤖 AI 전문가 답변</h2>\n",
       "        <div style=\"white-space: pre-wrap; font-family: Arial, sans-serif; line-height: 1.6;\">다이키리(Daiquiri)는 칵테일의 세계에서 매우 유명한 음료로, 다음과 같은 분류 정보를 가지고 있습니다.\n",
       "\n",
       "### 1. 분류 정보\n",
       "- **패밀리**: Sour Family\n",
       "- **IBA 여부**: 공식 인정 칵테일 (International Bartenders Association)\n",
       "- **베이스 스피릿**: 럼 (Rum)\n",
       "- **스타일**: Shaken (셰이큰)\n",
       "- **글라스**: 칵테일 글라스 (Cocktail Glass)\n",
       "\n",
       "### 2. 패밀리 특성 정의\n",
       "- **핵심 구성 요소**: 다이키리는 주로 럼, 라임 주스, 설탕으로 구성됩니다. 이 세 가지 재료는 Sour Family의 전형적인 특성을 잘 나타냅니다.\n",
       "- **패밀리 내 다른 칵테일과의 관계**: Sour Family에는 레몬 주스와 설탕을 사용하는 다양한 칵테일이 포함되며, 다이키리는 그 중에서도 럼을 베이스로 한 대표적인 예입니다.\n",
       "- **역사적 발전 과정**: 다이키리는 19세기 후반 쿠바에서 유래되었으며, 특히 해군과 관련된 역사적 배경을 가지고 있습니다. 초기에는 간단한 재료로 만들어졌으나, 시간이 지나면서 다양한 변형이 생겨났습니다.\n",
       "\n",
       "### 3. 분류 근거 명확히 제시\n",
       "- **왜 해당 패밀리에 속하는지 설명**: 다이키리는 신선한 라임 주스와 설탕을 사용하여 산미와 단맛의 균형을 이루며, Sour Family의 전형적인 특성을 잘 보여줍니다.\n",
       "- **제조법상의 특징**: 다이키리는 재료를 셰이커에 넣고 얼음과 함께 흔들어 혼합한 후, 차가운 칵테일 글라스에 따르는 방식으로 제조됩니다.\n",
       "- **재료 구성의 공통점**: Sour Family의 다른 칵테일들과 마찬가지로, 다이키리는 신맛과 단맛의 조화를 이루는 것이 특징입니다.\n",
       "\n",
       "### 4. 혼동하기 쉬운 분류 구분\n",
       "- **하이볼 vs 소어 vs 콜린스**: 하이볼은 일반적으로 탄산수와 함께 제공되는 긴 음료이며, 소어는 주로 짧고 강한 음료입니다. 다이키리는 소어의 일종으로, 짧고 강한 특성을 가지고 있습니다.\n",
       "- **마르티니 vs 맨해튼 스타일**: 마르티니는 주로 진과 드라이 베르무트를 사용하며, 맨해튼은 위스키와 스위트 베르무트를 사용합니다. 다이키리는 럼을 베이스로 하여 이들과는 다른 계열에 속합니다.\n",
       "\n",
       "### 5. 역사적 맥락 제공\n",
       "- **칵테일의 기원과 발전**: 다이키리는 1898년 쿠바의 다이키리 마을에서 유래되었으며, 미국의 해군 장교인 제닝스 코크가 이 음료를 대중화했습니다. 이후 다이키리는 다양한 변형이 생겨났고, 특히 얼음과 과일을 추가한 다양한 스타일이 인기를 끌었습니다.\n",
       "- **지역별, 시대별 변화**: 다이키리는 쿠바에서 시작되었지만, 미국과 전 세계로 퍼지면서 다양한 변형이 생겼습니다. 특히, 과일을 추가한 다이키리(예: 스트로베리 다이키리)가 현대에 들어 인기를 끌고 있습니다.\n",
       "- **현대적 해석과 변형**: 오늘날 다이키리는 다양한 과일과 조합하여 만들어지며, 특히 여름철에 인기가 많습니다. 전통적인 레시피 외에도 다양한 창의적인 변형이 존재합니다.\n",
       "\n",
       "이와 같은 정보가 다이키리에 대한 이해를 돕는 데 도움이 되길 바랍니다!</div>\n",
       "    </div>\n",
       "    "
      ],
      "text/plain": [
       "<IPython.core.display.HTML object>"
      ]
     },
     "metadata": {},
     "output_type": "display_data"
    }
   ],
   "source": [
    "# C3 테스트: 분류 및 계통 정보\n",
    "c3_question = \"다이키리의 분류 정보를 알려줘 - 패밀리, 베이스 스피릿, 스타일, 글라스\"\n",
    "\n",
    "try:\n",
    "    # 자동 태스크 분류\n",
    "    task_category, task_type, scores = classify_task_automatically(c3_question)\n",
    "    \n",
    "    print(f\"🤖 C3 테스트 - 질문 분석 중...\")\n",
    "    print(f\"🎯 감지된 태스크: {task_category} ({task_type})\")\n",
    "    print(f\"🔍 검색 시작...\")\n",
    "    \n",
    "    # 검색 및 답변 생성 (출력 억제)\n",
    "    old_stdout = sys.stdout\n",
    "    sys.stdout = StringIO()\n",
    "    \n",
    "    try:\n",
    "        context = retrieval_system.c3_classification(c3_question, task_type)\n",
    "        llm_response = retrieval_system.query_llm(context, c3_question, task_category)\n",
    "    finally:\n",
    "        sys.stdout = old_stdout\n",
    "    \n",
    "    print(f\"✅ C3 검색 완료! 결과를 표시합니다...\")\n",
    "    display_results(c3_question, context, llm_response, task_category, task_type, scores)\n",
    "    \n",
    "except Exception as e:\n",
    "    display(HTML(f\"\"\"\n",
    "    <div style=\"background-color: #ffebee; padding: 20px; border-radius: 10px; margin: 10px 0; border-left: 5px solid #f44336;\">\n",
    "        <h3 style=\"color: #d32f2f; margin-top: 0;\">❌ C3 테스트 오류</h3>\n",
    "        <p><strong>오류 내용:</strong> {str(e)}</p>\n",
    "    </div>\n",
    "    \"\"\"))"
   ]
  },
  {
   "cell_type": "code",
   "execution_count": null,
   "metadata": {},
   "outputs": [
    {
     "name": "stdout",
     "output_type": "stream",
     "text": [
      "🤖 config.json 기반 LLM 태스크 분류 완료\n",
      "📋 선택된 태스크: C4 (신뢰도: 90%)\n",
      "💭 판단 근거: 정확한 레시피와 측정값을 요청하는 질문이므로 C4가 적합\n",
      "🤖 C4 테스트 - 질문 분석 중...\n",
      "🎯 감지된 태스크: C4 (recipe_ingredients)\n",
      "🔍 검색 시작...\n",
      "✅ C4 검색 완료! 결과를 표시합니다...\n"
     ]
    },
    {
     "data": {
      "text/markdown": [
       "## 🔍 검색 결과"
      ],
      "text/plain": [
       "<IPython.core.display.Markdown object>"
      ]
     },
     "metadata": {},
     "output_type": "display_data"
    },
    {
     "data": {
      "text/html": [
       "\n",
       "    <div style=\"background-color: #f0f8ff; padding: 20px; border-radius: 10px; margin: 10px 0;\">\n",
       "        <h2 style=\"color: #2e86ab; margin-top: 0;\">🤖 AI 분석 결과</h2>\n",
       "        <p><strong>📝 질문:</strong> 맨해튼 레시피를 정확한 비율과 측정값으로 알려줘</p>\n",
       "        <p><strong>🎯 감지된 태스크:</strong> 🍹 레시피 & 재료 정보</p>\n",
       "        <p><strong>🔍 검색 전략:</strong> 🔍 instructions + measure 속성 활용</p>\n",
       "        <p><strong>📊 태스크 점수:</strong> C1:3 | C2:3 | C3:3 | C4:90</p>\n",
       "    </div>\n",
       "    "
      ],
      "text/plain": [
       "<IPython.core.display.HTML object>"
      ]
     },
     "metadata": {},
     "output_type": "display_data"
    },
    {
     "data": {
      "text/html": [
       "\n",
       "    <div style=\"background-color: #fff8e1; padding: 20px; border-radius: 10px; margin: 20px 0; border-left: 5px solid #ffa726;\">\n",
       "        <h2 style=\"color: #f57c00; margin-top: 0;\">🤖 AI 전문가 답변</h2>\n",
       "        <div style=\"white-space: pre-wrap; font-family: Arial, sans-serif; line-height: 1.6;\">맨해튼(Manhattan)은 클래식한 칵테일로, 주로 위스키를 기반으로 하며, 진한 맛과 향이 특징입니다. 아래는 맨해튼의 전통적인 레시피와 정확한 비율 및 측정값입니다.\n",
       "\n",
       "### 맨해튼 레시피\n",
       "\n",
       "#### 재료\n",
       "- 라이 위스키 또는 버번: 2 oz (60 ml)\n",
       "- 스위트 베르무트: 1 oz (30 ml)\n",
       "- 앙고스투라 비터스: 2 대시\n",
       "- 체리 (장식용): 1개\n",
       "\n",
       "#### 제조법\n",
       "1. **재료 준비**: 모든 재료를 미리 준비합니다. 얼음을 준비하여 칵테일 쉐이커나 믹싱 글라스에 넣습니다.\n",
       "2. **혼합**: 라이 위스키 또는 버번, 스위트 베르무트, 앙고스투라 비터스를 믹싱 글라스에 넣습니다.\n",
       "3. **스티어링**: 재료를 잘 섞기 위해 스푼을 사용하여 약 30초간 부드럽게 저어줍니다. 이 과정에서 얼음이 녹아 칵테일이 차가워집니다.\n",
       "4. **스트레인**: 혼합된 칵테일을 차가운 칵테일 글라스에 스트레인합니다.\n",
       "5. **장식**: 체리를 글라스에 넣어 장식합니다.\n",
       "\n",
       "### 추가 팁\n",
       "- **비율 조정**: 개인의 취향에 따라 스위트 베르무트의 양을 조절할 수 있습니다. 예를 들어, 2:1 비율(2 oz 위스키, 1 oz 베르무트) 대신 3:1 비율로 만들면 더 강한 맛을 느낄 수 있습니다.\n",
       "- **대체 재료**: \n",
       "  - 스위트 베르무트 대신 드라이 베르무트를 사용하면 더 상큼한 맛을 느낄 수 있습니다.\n",
       "  - 앙고스투라 비터스 대신 다른 비터스를 사용하면 색다른 풍미를 추가할 수 있습니다.\n",
       "  \n",
       "이 레시피를 따라 맨해튼을 만들어 보세요! 클래식한 맛을 즐길 수 있을 것입니다.</div>\n",
       "    </div>\n",
       "    "
      ],
      "text/plain": [
       "<IPython.core.display.HTML object>"
      ]
     },
     "metadata": {},
     "output_type": "display_data"
    }
   ],
   "source": [
    "# C4 테스트: 레시피 및 재료 정보\n",
    "c4_question = \"맨해튼 레시피를 정확한 비율과 측정값으로 알려줘\"\n",
    "\n",
    "try:\n",
    "    # 자동 태스크 분류\n",
    "    task_category, task_type, scores = classify_task_automatically(c4_question)\n",
    "    \n",
    "    print(f\"🤖 C4 테스트 - 질문 분석 중...\")\n",
    "    print(f\"🎯 감지된 태스크: {task_category} ({task_type})\")\n",
    "    print(f\"🔍 검색 시작...\")\n",
    "    \n",
    "    # 검색 및 답변 생성 (출력 억제)\n",
    "    old_stdout = sys.stdout\n",
    "    sys.stdout = StringIO()\n",
    "    \n",
    "    try:\n",
    "        context = retrieval_system.c4_recipe_ingredients(c4_question, task_type)\n",
    "        llm_response = retrieval_system.query_llm(context, c4_question, task_category)\n",
    "    finally:\n",
    "        sys.stdout = old_stdout\n",
    "    \n",
    "    print(f\"✅ C4 검색 완료! 결과를 표시합니다...\")\n",
    "    display_results(c4_question, context, llm_response, task_category, task_type, scores)\n",
    "    \n",
    "except Exception as e:\n",
    "    display(HTML(f\"\"\"\n",
    "    <div style=\"background-color: #ffebee; padding: 20px; border-radius: 10px; margin: 10px 0; border-left: 5px solid #f44336;\">\n",
    "        <h3 style=\"color: #d32f2f; margin-top: 0;\">❌ C4 테스트 오류</h3>\n",
    "        <p><strong>오류 내용:</strong> {str(e)}</p>\n",
    "    </div>\n",
    "    \"\"\"))"
   ]
  },
  {
   "cell_type": "code",
   "execution_count": null,
   "metadata": {},
   "outputs": [
    {
     "name": "stdout",
     "output_type": "stream",
     "text": [
      "🔄 시스템 연결이 정리되었습니다.\n",
      "💾 임베딩 캐시가 저장되었습니다.\n"
     ]
    }
   ],
   "source": [
    "# 🛠️ 시스템 정리 (노트북 사용 완료 시 실행)\n",
    "try:\n",
    "    if 'retrieval_system' in globals():\n",
    "        retrieval_system.close()\n",
    "        print(\"🔄 시스템 연결이 정리되었습니다.\")\n",
    "        print(\"💾 임베딩 캐시가 저장되었습니다.\")\n",
    "    else:\n",
    "        print(\"⚠️ 시스템이 초기화되지 않았습니다.\")\n",
    "except Exception as e:\n",
    "    print(f\"❌ 시스템 정리 중 오류: {e}\")"
   ]
  }
 ],
 "metadata": {
  "kernelspec": {
   "display_name": "yjenv",
   "language": "python",
   "name": "python3"
  },
  "language_info": {
   "codemirror_mode": {
    "name": "ipython",
    "version": 3
   },
   "file_extension": ".py",
   "mimetype": "text/x-python",
   "name": "python",
   "nbconvert_exporter": "python",
   "pygments_lexer": "ipython3",
   "version": "3.11.0"
  }
 },
 "nbformat": 4,
 "nbformat_minor": 4
}
