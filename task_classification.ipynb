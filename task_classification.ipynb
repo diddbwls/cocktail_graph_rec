{
 "cells": [
  {
   "cell_type": "markdown",
   "id": "ecf593c6",
   "metadata": {},
   "source": [
    "## 🤖 Task Classifier 테스트"
   ]
  },
  {
   "cell_type": "code",
   "execution_count": 8,
   "id": "1d20a744",
   "metadata": {},
   "outputs": [],
   "source": [
    "# 🤖 Task Classifier 테스트\n",
    "\n",
    "from prompts.task_classifier_prompt import TASK_CLASSIFIER_TEMPLATE\n",
    "import json\n",
    "import openai\n",
    "\n",
    "def classify_and_search(question: str):\n",
    "    \"\"\"질문을 분류하고 해당 알고리즘으로 검색\"\"\"\n",
    "    \n",
    "    # 1. Task Classification\n",
    "    print(f\"🔍 질문: {question}\")\n",
    "    print(\"\\n🤖 Task Classifier 분석 중...\")\n",
    "    \n",
    "    # Task classifier prompt 생성\n",
    "    classifier_prompt = TASK_CLASSIFIER_TEMPLATE.format(question=question)\n",
    "    \n",
    "    try:\n",
    "        # LLM으로 분류\n",
    "        response = openai.chat.completions.create(\n",
    "            model=\"gpt-4o-mini\",\n",
    "            messages=[\n",
    "                {\"role\": \"user\", \"content\": classifier_prompt}\n",
    "            ],\n",
    "            temperature=0\n",
    "        )\n",
    "        \n",
    "        classification_result = json.loads(response.choices[0].message.content)\n",
    "        task = classification_result[\"task\"]\n",
    "        confidence = classification_result[\"confidence\"]\n",
    "        reason = classification_result[\"reason\"]\n",
    "        \n",
    "        print(f\"📊 분류 결과: {task} (신뢰도: {confidence}%)\")\n",
    "        print(f\"💭 분류 이유: {reason}\")\n",
    "            \n",
    "    except Exception as e:\n",
    "        print(f\"❌ 분류 중 오류 발생: {e}\")"
   ]
  },
  {
   "cell_type": "code",
   "execution_count": 9,
   "id": "cd996f1f",
   "metadata": {},
   "outputs": [
    {
     "name": "stdout",
     "output_type": "stream",
     "text": [
      "🔍 질문: whiskey와 vermouth가 들어간 칵테일들\n",
      "\n",
      "🤖 Task Classifier 분석 중...\n",
      "📊 분류 결과: C3 (신뢰도: 90%)\n",
      "💭 분류 이유: 주어진 재료 리스트를 기반으로 칵테일을 찾는 질문이므로 C3가 적합\n"
     ]
    }
   ],
   "source": [
    "# 테스트 질문\n",
    "test_question = \"whiskey와 vermouth가 들어간 칵테일들\"\n",
    "classify_and_search(test_question)"
   ]
  }
 ],
 "metadata": {
  "kernelspec": {
   "display_name": "yjenv",
   "language": "python",
   "name": "python3"
  },
  "language_info": {
   "codemirror_mode": {
    "name": "ipython",
    "version": 3
   },
   "file_extension": ".py",
   "mimetype": "text/x-python",
   "name": "python",
   "nbconvert_exporter": "python",
   "pygments_lexer": "ipython3",
   "version": "3.11.0"
  }
 },
 "nbformat": 4,
 "nbformat_minor": 5
}
